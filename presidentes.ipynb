{
 "cells": [
  {
   "cell_type": "markdown",
   "metadata": {},
   "source": [
    "## Limpieza"
   ]
  },
  {
   "cell_type": "code",
   "execution_count": null,
   "metadata": {},
   "outputs": [],
   "source": [
    "import pandas as pd"
   ]
  },
  {
   "cell_type": "code",
   "execution_count": null,
   "metadata": {},
   "outputs": [],
   "source": [
    "df = pd.read_csv(\"./presidentes.csv\", delimiter=\";\")"
   ]
  },
  {
   "cell_type": "code",
   "execution_count": null,
   "metadata": {},
   "outputs": [],
   "source": [
    "def clean_ages(age):\n",
    "    age = age[:2]\n",
    "    return age"
   ]
  },
  {
   "cell_type": "code",
   "execution_count": null,
   "metadata": {},
   "outputs": [],
   "source": [
    "df[\"Edad al tomar posesión\"] = df[\"Edad al tomar posesión\"].apply(clean_ages)\n",
    "df[\"Edad al dejar el cargo[4]\\u200b\"] = df[\"Edad al dejar el cargo[4]\\u200b\"].apply(clean_ages)\n",
    "df[\"Edad al morir\"] = df[\"Edad al morir\"].apply(clean_ages)"
   ]
  },
  {
   "cell_type": "code",
   "execution_count": null,
   "metadata": {},
   "outputs": [],
   "source": [
    "df.rename(columns={\n",
    "    \"Edad al tomar posesión\": \"Age in\",\n",
    "    \"Edad al dejar el cargo[4]\\u200b\": \"Age out\",\n",
    "    \"Edad al morir\": \"Age dead\",\n",
    "    \"Gobernante\": \"President\",\n",
    "    \"Fecha de nacimiento[1]\\u200b\": \"Born Date\",\n",
    "    \"Fecha de toma de posesión[2]\\u200b\": \"In Date\",\n",
    "    \"Fin del mandato[3]\\u200b\": \"Out Date\",\n",
    "    \"Fecha de muerte[5]\\u200b\": \"Dead Date\"\n",
    "}, inplace=True)"
   ]
  },
  {
   "cell_type": "code",
   "execution_count": null,
   "metadata": {},
   "outputs": [],
   "source": [
    "def clean_dates(date):\n",
    "    if \"9999\" in date:\n",
    "        date = \"-\"\n",
    "    # Intentar convertir la fecha al formato deseado\n",
    "    try:\n",
    "        return pd.to_datetime(date, format='%d/%m/%Y')\n",
    "    except ValueError:\n",
    "        # Si la conversión falla, devolver NaT o un valor vacío\n",
    "        return pd.NaT"
   ]
  },
  {
   "cell_type": "code",
   "execution_count": null,
   "metadata": {},
   "outputs": [],
   "source": [
    "date_columns = [\"In Date\", \"Out Date\", \"Dead Date\", \"Born Date\"]\n",
    "\n",
    "df[date_columns] = df[date_columns].map(clean_dates)"
   ]
  },
  {
   "cell_type": "code",
   "execution_count": null,
   "metadata": {},
   "outputs": [],
   "source": [
    "df = df.drop_duplicates(subset='President', keep='first')\n",
    "\n",
    "# Modificar fecha de muerte de luis echeverria\n",
    "df.loc[df[\"President\"] == \"Luis Echeverría\", \"Dead Date\"] = pd.to_datetime(\"2022-07-08\")\n",
    "\n",
    "# Edad de muerte de luis echeverria\n",
    "df.loc[df[\"President\"] == \"Luis Echeverría\", \"Age dead\"] = 100"
   ]
  },
  {
   "cell_type": "code",
   "execution_count": null,
   "metadata": {},
   "outputs": [],
   "source": [
    "df.to_excel(\"presidents.xlsx\")\n",
    "df.to_csv(\"presidents.csv\", index=False)"
   ]
  },
  {
   "cell_type": "code",
   "execution_count": null,
   "metadata": {},
   "outputs": [],
   "source": [
    "df"
   ]
  },
  {
   "cell_type": "markdown",
   "metadata": {},
   "source": [
    "## Análisis Simple (Ingreso y Fallecimiento)"
   ]
  },
  {
   "cell_type": "code",
   "execution_count": null,
   "metadata": {},
   "outputs": [],
   "source": [
    "import pandas as pd\n",
    "import matplotlib.pyplot as plt\n",
    "\n",
    "file_path = './presidents.csv'\n",
    "df = pd.read_csv(file_path)\n",
    "\n",
    "# Limpiar datos no numéricos en columnas de edad\n",
    "age_in_office_cleaned = pd.to_numeric(df['Age in'], errors='coerce')\n",
    "age_at_death_cleaned = pd.to_numeric(df['Age dead'], errors='coerce')\n",
    "presidents = df['President']\n",
    "\n",
    "# Resetear las escalas de colores\n",
    "plt.rcParams.update(plt.rcParamsDefault)\n",
    "\n",
    "# Gráfico 1\n",
    "plt.figure(figsize=(10, 6))\n",
    "plt.bar(presidents, age_in_office_cleaned, color='lightgray', label='Edad al asumir')\n",
    "plt.plot(presidents, age_in_office_cleaned, color='black', label='Edad al asumir (Línea)', linewidth=2, marker='o')\n",
    "plt.title('Edad de los presidentes al momento de asumir el cargo')\n",
    "plt.xlabel('Presidentes')\n",
    "plt.ylabel('Edad')\n",
    "plt.xticks(rotation=90)\n",
    "plt.legend()\n",
    "\n",
    "# Agregar anotaciones\n",
    "min_age_in = age_in_office_cleaned.min()\n",
    "min_president_in = df.loc[age_in_office_cleaned.idxmin(), 'President']\n",
    "max_age_in = age_in_office_cleaned.max()\n",
    "max_president_in = df.loc[age_in_office_cleaned.idxmax(), 'President']\n",
    "\n",
    "plt.annotate(f'Mínimo: {min_age_in} ({min_president_in})', \n",
    "             xy=(age_in_office_cleaned.idxmin(), min_age_in),\n",
    "             xytext=(age_in_office_cleaned.idxmin(), min_age_in + 5),\n",
    "             arrowprops=dict(facecolor='black', arrowstyle=\"->\"))\n",
    "plt.annotate(f'Máximo: {max_age_in} ({max_president_in})',\n",
    "             xy=(age_in_office_cleaned.idxmax(), max_age_in),\n",
    "             xytext=(age_in_office_cleaned.idxmax(), max_age_in - 5),\n",
    "             arrowprops=dict(facecolor='black', arrowstyle=\"->\"))\n",
    "\n",
    "plt.tight_layout()\n",
    "plt.show()\n",
    "\n",
    "# Gráfico 2\n",
    "plt.figure(figsize=(10, 6))\n",
    "plt.bar(presidents, age_at_death_cleaned, color='lightgray', label='Edad al fallecer')\n",
    "plt.plot(presidents, age_at_death_cleaned, color='black', label='Edad al fallecer (Línea)', linewidth=2, marker='o')\n",
    "plt.title('Edad de los presidentes al momento de fallecer')\n",
    "plt.xlabel('Presidentes')\n",
    "plt.ylabel('Edad')\n",
    "plt.xticks(rotation=90)\n",
    "plt.legend()\n",
    "\n",
    "# Agregar anotaciones\n",
    "max_age_death = age_at_death_cleaned.max()\n",
    "max_president_death = df.loc[age_at_death_cleaned.idxmax(), 'President']\n",
    "min_age_death = age_at_death_cleaned.min()\n",
    "min_president_death = df.loc[age_at_death_cleaned.idxmin(), 'President']\n",
    "\n",
    "plt.annotate(f'Máximo: {max_age_death} ({max_president_death})',\n",
    "             xy=(age_at_death_cleaned.idxmax(), max_age_death),\n",
    "             xytext=(age_at_death_cleaned.idxmax(), max_age_death - 5),\n",
    "             arrowprops=dict(facecolor='black', arrowstyle=\"->\"))\n",
    "\n",
    "plt.annotate(f'Mínimo: {min_age_death} ({min_president_death})',\n",
    "             xy=(age_at_death_cleaned.idxmin(), min_age_death),\n",
    "             xytext=(age_at_death_cleaned.idxmin(), min_age_death + 5),\n",
    "             arrowprops=dict(facecolor='black', arrowstyle=\"->\"))\n",
    "\n",
    "plt.tight_layout()\n",
    "plt.show()\n"
   ]
  },
  {
   "cell_type": "markdown",
   "metadata": {},
   "source": [
    "## Análisis conjunto"
   ]
  },
  {
   "cell_type": "markdown",
   "metadata": {},
   "source": [
    "### Expectativa de vida vs edad de comienzo"
   ]
  },
  {
   "cell_type": "code",
   "execution_count": null,
   "metadata": {},
   "outputs": [],
   "source": [
    "file_path = './life-expectancy.csv' \n",
    "\n",
    "le = pd.read_csv(file_path)\n",
    "\n",
    "# Filtrar solo los datos de México\n",
    "le_mx = le[le['Entity'] == 'Mexico']"
   ]
  },
  {
   "cell_type": "code",
   "execution_count": null,
   "metadata": {},
   "outputs": [],
   "source": [
    "le_mx"
   ]
  },
  {
   "cell_type": "code",
   "execution_count": null,
   "metadata": {},
   "outputs": [],
   "source": [
    "# Renombar columna de esperanza de vida\n",
    "le_mx.rename(columns={'Period life expectancy at birth - Sex: all - Age: 0': 'Life Expectancy'}, inplace=True)"
   ]
  },
  {
   "cell_type": "code",
   "execution_count": null,
   "metadata": {},
   "outputs": [],
   "source": [
    "pd.DataFrame(le_mx)"
   ]
  },
  {
   "cell_type": "code",
   "execution_count": null,
   "metadata": {},
   "outputs": [],
   "source": [
    "# Agregar columna de life expectancy a df\n",
    "# si el año de In Date es mayor o igual al añor de la columna Year de le_mx y no mas alla de 6 años, entonces se agrega la esperanza de vida\n",
    "# In Date esta en el formato de %yyyy-%mm-%dd\n",
    "# Year esta en el formato de %yyyy\n",
    "\n",
    "df['In Date'] = pd.to_datetime(df['In Date'], format='%Y-%m-%d', errors='coerce')\n",
    "\n",
    "def get_life_expectancy(row):\n",
    "    year = row['In Date'].year\n",
    "    le_row = le_mx[le_mx['Year'] == year]\n",
    "    if le_row.empty:\n",
    "        return None\n",
    "    return le_row['Life Expectancy'].values[0]\n",
    "\n",
    "df['Life Expectancy'] = df.apply(get_life_expectancy, axis=1)\n",
    "\n",
    "df"
   ]
  },
  {
   "cell_type": "code",
   "execution_count": null,
   "metadata": {},
   "outputs": [],
   "source": [
    "# A partir de que In Date se tiene la esperanza de vida\n",
    "df[df['Life Expectancy'].notnull()]"
   ]
  },
  {
   "cell_type": "code",
   "execution_count": null,
   "metadata": {},
   "outputs": [],
   "source": [
    "# En que año está registrado porfirio diaz\n",
    "df[df['President'] == 'Porfirio Díaz']"
   ]
  },
  {
   "cell_type": "code",
   "execution_count": null,
   "metadata": {},
   "outputs": [],
   "source": [
    "plt.figure(figsize=(10, 6))\n",
    "\n",
    "colors = ['black' if pres == 'Adolfo de la Huerta' else 'gray' for pres in df['President']]\n",
    "plt.bar(df['President'], df['Age in'], label=\"Edad de inicio\", color=colors, alpha=0.6)\n",
    "\n",
    "plt.plot(df['President'], df['Life Expectancy'], color='black', label=\"Esperanza de vida\", linewidth=2)\n",
    "\n",
    "plt.xticks(rotation=90)\n",
    "plt.xlabel(\"Presidente\")\n",
    "plt.ylabel(\"Edad de inicio\")\n",
    "plt.title(\"Edad de inicio de los presidentes de México y la esperanza de vida\")\n",
    "plt.legend()\n",
    "plt.tight_layout()\n",
    "\n",
    "plt.show()\n"
   ]
  },
  {
   "cell_type": "code",
   "execution_count": null,
   "metadata": {},
   "outputs": [],
   "source": [
    "# Convertir las columnas 'In Date' y 'Out Date' a tipo datetime\n",
    "df['In Date'] = pd.to_datetime(df['In Date'], format='%Y-%m-%d', errors='coerce')\n",
    "df['Out Date'] = pd.to_datetime(df['Out Date'], format='%Y-%m-%d', errors='coerce')\n",
    "\n",
    "# Resetear los parámetros de plt\n",
    "plt.rcParams.update(plt.rcParamsDefault)\n",
    "\n",
    "# Calcular la duración del mandato en días\n",
    "df['Duration'] = (df['Out Date'] - df['In Date']).dt.days\n",
    "\n",
    "# Graficar la duración del mandato y la esperanza de vida\n",
    "plt.figure(figsize=(10, 6))\n",
    "\n",
    "plt.bar(df['President'], df['Duration'], label=\"Duración del mandato\", color='gray', alpha=0.6)\n",
    "\n",
    "# Configurar etiquetas y título\n",
    "plt.xticks(rotation=90)\n",
    "plt.xlabel(\"Presidente\")\n",
    "plt.ylabel(\"Duración del mandato (días)\")\n",
    "plt.title(\"Duración del mandato de los presidentes de México\")\n",
    "plt.legend()\n",
    "\n",
    "# Ajustar el diseño y mostrar la gráfica\n",
    "plt.tight_layout()\n",
    "plt.show()"
   ]
  },
  {
   "cell_type": "code",
   "execution_count": null,
   "metadata": {},
   "outputs": [],
   "source": []
  }
 ],
 "metadata": {
  "kernelspec": {
   "display_name": ".venv",
   "language": "python",
   "name": "python3"
  },
  "language_info": {
   "codemirror_mode": {
    "name": "ipython",
    "version": 3
   },
   "file_extension": ".py",
   "mimetype": "text/x-python",
   "name": "python",
   "nbconvert_exporter": "python",
   "pygments_lexer": "ipython3",
   "version": "3.12.5"
  }
 },
 "nbformat": 4,
 "nbformat_minor": 2
}
